{
 "cells": [
  {
   "cell_type": "markdown",
   "id": "0e22999a",
   "metadata": {},
   "source": [
    "# MGMT Expression Analysis in TCGA-GBM\n",
    "This notebook explores the expression levels of the MGMT gene in the TCGA Glioblastoma (GBM) cohort, with a focus on its relationship to radiation therapy status."
   ]
  },
  {
   "cell_type": "code",
   "execution_count": null,
   "id": "af9f28a9",
   "metadata": {},
   "outputs": [],
   "source": [
    "import pandas as pd\n",
    "import matplotlib.pyplot as plt\n",
    "import seaborn as sns\n",
    "from scipy.stats import mannwhitneyu"
   ]
  },
  {
   "cell_type": "code",
   "execution_count": null,
   "id": "5f9b8f28",
   "metadata": {},
   "outputs": [],
   "source": [
    "# Load RNA-seq and clinical data\n",
    "rna_file = 'Human__TCGA_GBM__UNC__RNAseq__HiSeq_RNA__01_28_2016__BI__Gene__Firehose_RSEM_log2.cct'\n",
    "clinical_file = 'Human__TCGA_GBM__MS__Clinical__Clinical__01_28_2016__BI__Clinical__Firehose.tsi'\n",
    "\n",
    "rna_df = pd.read_csv(rna_file, sep='\\t', index_col=0)\n",
    "clinical_df = pd.read_csv(clinical_file, sep='\\t')\n",
    "rna_df.columns = [col.split('-')[0] for col in rna_df.columns]\n",
    "rna_df = rna_df.T\n",
    "merged_df = clinical_df.copy()\n",
    "merged_df['bcr_patient_barcode'] = merged_df['bcr_patient_barcode'].str.strip()\n",
    "merged_df = merged_df.merge(rna_df[['MGMT']], left_on='bcr_patient_barcode', right_index=True)\n",
    "merged_df.rename(columns={'MGMT': 'MGMT_expression'}, inplace=True)"
   ]
  },
  {
   "cell_type": "code",
   "execution_count": null,
   "id": "434a0e73",
   "metadata": {},
   "outputs": [],
   "source": [
    "# Scatter plot of MGMT expression vs Age\n",
    "plt.figure(figsize=(8, 6))\n",
    "plt.scatter(merged_df['age_at_initial_pathologic_diagnosis'], merged_df['MGMT_expression'])\n",
    "plt.xlabel('Age at Diagnosis')\n",
    "plt.ylabel('MGMT Expression (log2 RSEM)')\n",
    "plt.title('MGMT Expression vs. Age in TCGA-GBM')\n",
    "plt.grid(True)\n",
    "plt.tight_layout()\n",
    "plt.show()"
   ]
  },
  {
   "cell_type": "code",
   "execution_count": null,
   "id": "1c995ab3",
   "metadata": {},
   "outputs": [],
   "source": [
    "# Compare MGMT expression across radiation therapy groups\n",
    "comp_df = merged_df.copy()\n",
    "comp_df['radiation_therapy'] = comp_df['radiation_therapy'].astype(str).str.strip().str.lower()\n",
    "comp_df = comp_df[comp_df['radiation_therapy'].isin(['yes', 'no'])]\n",
    "comp_df['MGMT_expression'] = pd.to_numeric(comp_df['MGMT_expression'], errors='coerce')\n",
    "comp_df = comp_df.dropna(subset=['MGMT_expression'])\n",
    "\n",
    "plt.figure(figsize=(8, 6))\n",
    "sns.boxplot(data=comp_df, x='radiation_therapy', y='MGMT_expression')\n",
    "plt.xlabel('Radiation Therapy')\n",
    "plt.ylabel('MGMT Expression (log2 RSEM)')\n",
    "plt.title('MGMT Expression by Radiation Therapy Status in TCGA-GBM')\n",
    "plt.grid(True, axis='y')\n",
    "plt.tight_layout()\n",
    "plt.show()"
   ]
  },
  {
   "cell_type": "code",
   "execution_count": null,
   "id": "d683fc21",
   "metadata": {},
   "outputs": [],
   "source": [
    "# Statistical test: Mann–Whitney U test\n",
    "mgmt_yes = comp_df[comp_df['radiation_therapy'] == 'yes']['MGMT_expression']\n",
    "mgmt_no = comp_df[comp_df['radiation_therapy'] == 'no']['MGMT_expression']\n",
    "stat, p_value = mannwhitneyu(mgmt_yes, mgmt_no, alternative='two-sided')\n",
    "print(f\"Mann–Whitney U statistic: {stat:.2f}, p-value: {p_value:.4f}\")"
   ]
  }
 ],
 "metadata": {},
 "nbformat": 4,
 "nbformat_minor": 5
}
